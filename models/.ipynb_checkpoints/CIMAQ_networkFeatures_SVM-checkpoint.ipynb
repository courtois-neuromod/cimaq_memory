{
 "cells": [
  {
   "cell_type": "code",
   "execution_count": 29,
   "metadata": {},
   "outputs": [],
   "source": [
    "%matplotlib inline"
   ]
  },
  {
   "cell_type": "markdown",
   "metadata": {},
   "source": [
    "Single-subject example of SVM classification based on network features derived from CIMAQ memory encoding task (fMRI data). \n",
    "\n",
    "For each trial, network features reflect correlations between the trial's beta-weights map (one beta value per voxel), and the participant's 20 brain-network maps. \n",
    "Each trial has 20 network weights entered as features for classification.\n",
    "\n",
    "Trials (conditions) are classifierd according to either condition or memory performance (hit vs miss, correct vs incorrect source)\n"
   ]
  },
  {
   "cell_type": "code",
   "execution_count": 30,
   "metadata": {},
   "outputs": [],
   "source": [
    "import os\n",
    "import sys\n",
    "import glob\n",
    "import numpy as np\n",
    "import pandas as pd\n",
    "import nilearn\n",
    "import scipy\n",
    "import nibabel as nb\n",
    "import sklearn\n",
    "import seaborn as sns\n",
    "import itertools\n",
    "\n",
    "from numpy import nan as NaN\n",
    "from matplotlib import pyplot as plt\n",
    "from nilearn import image, plotting\n",
    "from nilearn import datasets\n",
    "from nilearn.plotting import plot_stat_map, plot_roi, plot_anat, plot_img, show\n",
    "from nilearn.input_data import NiftiMasker\n",
    "from sklearn.model_selection import train_test_split\n",
    "from sklearn.svm import SVC\n",
    "from sklearn.metrics import accuracy_score, classification_report, confusion_matrix, precision_score, f1_score\n",
    "from sklearn.model_selection import cross_val_predict, cross_val_score\n",
    "from sklearn.preprocessing import MinMaxScaler\n",
    "\n",
    "#libraries need to be installed in conda environment with pip install"
   ]
  },
  {
   "cell_type": "markdown",
   "metadata": {},
   "source": [
    "Step 1: import matrix of network weights per trials\n"
   ]
  },
  {
   "cell_type": "code",
   "execution_count": 31,
   "metadata": {
    "scrolled": true
   },
   "outputs": [
    {
     "name": "stdout",
     "output_type": "stream",
     "text": [
      "(117, 20)\n"
     ]
    }
   ],
   "source": [
    "# subject dccid (identifier used in Loris-cimaq database)\n",
    "id = '122922'\n",
    "\n",
    "# Load matrix of network weights per trial\n",
    "weights = glob.glob('/Users/mombot/Documents/Simexp/CIMAQ/Data/Nilearn/features/sub*20networks_117Trials.tsv')[0]\n",
    "X_netWeights = pd.read_csv(weights, sep='\\t', header=None)\n",
    "print(X_netWeights.shape) #117 rows = trials, 20 cols = network weights, val = Pearson r\n"
   ]
  },
  {
   "cell_type": "markdown",
   "metadata": {},
   "source": [
    "Step 3: import the behavioural labels\n"
   ]
  },
  {
   "cell_type": "code",
   "execution_count": 32,
   "metadata": {
    "scrolled": false
   },
   "outputs": [
    {
     "name": "stdout",
     "output_type": "stream",
     "text": [
      "Labels: Encoding and Control Trials\n",
      "0    Enc\n",
      "1    CTL\n",
      "2    Enc\n",
      "3    Enc\n",
      "4    CTL\n",
      "Name: condition, dtype: object\n",
      "Enc    78\n",
      "CTL    39\n",
      "Name: condition, dtype: int64\n",
      "\n",
      "Labels: Hit, Miss and Control Trials\n",
      "0        hit\n",
      "1    control\n",
      "2        hit\n",
      "3        hit\n",
      "4    control\n",
      "Name: ctl_miss_hit, dtype: object\n",
      "hit        55\n",
      "control    39\n",
      "missed     23\n",
      "Name: ctl_miss_hit, dtype: int64\n",
      "\n",
      "Labels: Correct Source, Wrong Source, Miss and Control Trials\n",
      "0    correctsource\n",
      "1          control\n",
      "2      wrongsource\n",
      "3      wrongsource\n",
      "4          control\n",
      "Name: ctl_miss_ws_cs, dtype: object\n",
      "control          39\n",
      "wrongsource      30\n",
      "correctsource    25\n",
      "missed           23\n",
      "Name: ctl_miss_ws_cs, dtype: int64\n"
     ]
    }
   ],
   "source": [
    "#All trial labels (different label sets)\n",
    "label_dir = '/Users/mombot/Documents/Simexp/CIMAQ/Data/Nistats/Events'\n",
    "\n",
    "#Labels: Encoding and Control trials (all 117 trials)\n",
    "labels_enco_ctl = glob.glob(os.path.join(label_dir, 'sub-*enco_ctl.tsv'))[0]\n",
    "enco_ctl_labels = pd.read_csv(labels_enco_ctl, sep='\\t')\n",
    "y_enco_ctl = enco_ctl_labels['condition']\n",
    "print('Labels: Encoding and Control Trials')\n",
    "print(y_enco_ctl.head())\n",
    "print(enco_ctl_labels.condition.value_counts()) #plot number of trials per label (enco, ctl)\n",
    "\n",
    "#Labels: Hit, Miss and Control trials (all 117 trials)\n",
    "labels_hit_miss_ctl = glob.glob(os.path.join(label_dir, 'sub-*ctl_miss_hit.tsv'))[0]\n",
    "hit_miss_ctl_labels = pd.read_csv(labels_hit_miss_ctl, sep='\\t')\n",
    "y_hit_miss_ctl = hit_miss_ctl_labels['ctl_miss_hit']\n",
    "print('\\nLabels: Hit, Miss and Control Trials')\n",
    "print(y_hit_miss_ctl.head())\n",
    "print(hit_miss_ctl_labels.ctl_miss_hit.value_counts()) #plot number of trials per label (hit, miss, ctl)\n",
    "\n",
    "#Labels: Correct Source, Wrong Source, Miss and Control trials (all 117 trials)\n",
    "labels_cs_ws_miss_ctl = glob.glob(os.path.join(label_dir, 'sub-*ctl_miss_ws_cs.tsv'))[0]\n",
    "cs_ws_miss_ctl_labels = pd.read_csv(labels_cs_ws_miss_ctl, sep='\\t')\n",
    "y_cs_ws_miss_ctl = cs_ws_miss_ctl_labels['ctl_miss_ws_cs']\n",
    "print('\\nLabels: Correct Source, Wrong Source, Miss and Control Trials')\n",
    "print(y_cs_ws_miss_ctl.head())\n",
    "print(cs_ws_miss_ctl_labels.ctl_miss_ws_cs.value_counts()) #plot number of trials per label (cs, ws, miss, ctl)\n"
   ]
  },
  {
   "cell_type": "markdown",
   "metadata": {},
   "source": [
    "Step 4. Select a subset of trials of interest for classification (exclude other categories with a mask)\n"
   ]
  },
  {
   "cell_type": "code",
   "execution_count": 33,
   "metadata": {},
   "outputs": [
    {
     "name": "stdout",
     "output_type": "stream",
     "text": [
      "(78, 20)\n",
      "(48, 20)\n",
      "(55, 20)\n",
      "(78,)\n",
      "(48,)\n",
      "(55,)\n"
     ]
    }
   ],
   "source": [
    "## Create a mask from the labels (keep only labels of interest)\n",
    "## Apply the mask to 2D fMRI data matrix: keep only rows (trials) of interest\n",
    "## Apply the same mask to labels (exclude labels of no interest)\n",
    "\n",
    "#From model with all trials\n",
    "hit_miss_mask = y_hit_miss_ctl.isin(['hit', 'missed'])\n",
    "cs_miss_mask = y_cs_ws_miss_ctl.isin(['correctsource', 'missed'])\n",
    "cs_ws_mask = y_cs_ws_miss_ctl.isin(['wrongsource', 'correctsource'])\n",
    "\n",
    "X_HM_netWeights = X_netWeights[hit_miss_mask]\n",
    "print(X_HM_netWeights.shape)\n",
    "X_CsM_netWeights = X_netWeights[cs_miss_mask]\n",
    "print(X_CsM_netWeights.shape)\n",
    "X_CsWs_netWeights = X_netWeights[cs_ws_mask]\n",
    "print(X_CsWs_netWeights.shape)\n",
    "\n",
    "y_hit_miss = y_hit_miss_ctl[hit_miss_mask]\n",
    "print(y_hit_miss.shape)\n",
    "y_cs_miss = y_cs_ws_miss_ctl[cs_miss_mask]\n",
    "print(y_cs_miss.shape)\n",
    "y_cs_ws = y_cs_ws_miss_ctl[cs_ws_mask]\n",
    "print(y_cs_ws.shape)\n"
   ]
  },
  {
   "cell_type": "markdown",
   "metadata": {},
   "source": [
    "Step 5: stratify the data into training and testing sets\n",
    "\n",
    "See scikit-learn documentation here:\n",
    "https://scikit-learn.org/stable/modules/generated/sklearn.model_selection.train_test_split.html\n",
    "\n",
    "Define a training and a testing sample\n",
    "Split the sample to training/test with a 60/40 ratio, stratify trials by condition, and  shuffle the data"
   ]
  },
  {
   "cell_type": "code",
   "execution_count": 34,
   "metadata": {},
   "outputs": [
    {
     "name": "stdout",
     "output_type": "stream",
     "text": [
      "training: 70 testing: 47\n"
     ]
    }
   ],
   "source": [
    "##Encoding vs control condition: X_netWeights, y_enco_ctl (80% accuracy, test size = 0.4, 7 cv)\n",
    "\n",
    "##Hit vs Miss: X_HM_netWeights, y_hit_miss \n",
    "\n",
    "##Correct Source vs Miss: X_CsM_netWeights, y_cs_miss (66% correct; test_size: 0.3, cv: 7)\n",
    "\n",
    "##Correct vs Wrong Source: X_CsWs_allTrials3D_A, y_cs_ws (58% correct)\n",
    "\n",
    "\n",
    "X_train, X_test, y_train, y_test = train_test_split(\n",
    "    X_netWeights, # x\n",
    "    y_enco_ctl, # y\n",
    "    test_size = 0.4, # 60%/40% split\n",
    "    shuffle = True, # shuffle dataset before splitting\n",
    "    stratify = y_enco_ctl, # keep distribution of conditions consistent betw. train & test sets\n",
    "    random_state = 123) # same shuffle each time\n",
    "\n",
    "print('training:', len(X_train),\n",
    "     'testing:', len(X_test))\n",
    "\n",
    "#fig,(ax1,ax2) = plt.subplots(2)\n",
    "#sns.countplot(y_train, ax=ax1, order=['Enc','CTL'])\n",
    "#ax1.set_title('Train')\n",
    "#sns.countplot(y_test, ax=ax2, order=['Enc','CTL'])\n",
    "#ax2.set_title('Test')"
   ]
  },
  {
   "cell_type": "markdown",
   "metadata": {},
   "source": [
    "Step 6: train an SVM  model"
   ]
  },
  {
   "cell_type": "code",
   "execution_count": 35,
   "metadata": {},
   "outputs": [
    {
     "name": "stdout",
     "output_type": "stream",
     "text": [
      "accuracy: 0.8\n",
      "              precision    recall  f1-score   support\n",
      "\n",
      "         CTL       0.85      0.48      0.61        23\n",
      "         Enc       0.79      0.96      0.87        47\n",
      "\n",
      "    accuracy                           0.80        70\n",
      "   macro avg       0.82      0.72      0.74        70\n",
      "weighted avg       0.81      0.80      0.78        70\n",
      "\n",
      "[[11 12]\n",
      " [ 2 45]]\n"
     ]
    },
    {
     "data": {
      "image/png": "[encoded data removed]",
      "text/plain": [
       "<Figure size 432x288 with 2 Axes>"
      ]
     },
     "metadata": {
      "needs_background": "light"
     },
     "output_type": "display_data"
    }
   ],
   "source": [
    "my_first_svc = SVC(kernel='linear') #define the model\n",
    "my_first_svc.fit(X_train, y_train) #train the model\n",
    "\n",
    "# predict the training data based on the model\n",
    "y_pred = my_first_svc.predict(X_train)\n",
    "\n",
    "# calculate the model accuracy\n",
    "acc = my_first_svc.score(X_train, y_train)\n",
    "\n",
    "# calculate the model precision, recall and f1 in one report\n",
    "cr = classification_report(y_true=y_train,\n",
    "                      y_pred = y_pred)\n",
    "\n",
    "# get a table to help us break down these scores\n",
    "cm = confusion_matrix(y_true=y_train, y_pred = y_pred)\n",
    "\n",
    "# print results\n",
    "print('accuracy:', acc)\n",
    "print(cr)\n",
    "print(cm)\n",
    "\n",
    "# plot confusion matrix (training data)\n",
    "cmdf = pd.DataFrame(cm, index = ['Control','Encoding'], columns = ['Control','Encoding'])\n",
    "sns.heatmap(cmdf, cmap = 'RdBu_r')\n",
    "plt.xlabel('Predicted')\n",
    "plt.ylabel('Observed')\n",
    "# label cells in matrix\n",
    "for i, j in itertools.product(range(cm.shape[0]), range(cm.shape[1])):\n",
    "        plt.text(j+0.5, i+0.5, format(cm[i, j], 'd'),\n",
    "                 horizontalalignment=\"center\",\n",
    "                 color=\"white\")"
   ]
  },
  {
   "cell_type": "code",
   "execution_count": 36,
   "metadata": {},
   "outputs": [
    {
     "name": "stdout",
     "output_type": "stream",
     "text": [
      "Fold 0 -- Acc = 0.75\n",
      "Fold 1 -- Acc = 0.75\n",
      "Fold 2 -- Acc = 0.75\n",
      "Fold 3 -- Acc = 0.7142857142857143\n",
      "Fold 4 -- Acc = 0.7142857142857143\n",
      "Fold 5 -- Acc = 0.7142857142857143\n",
      "Fold 6 -- Acc = 0.8571428571428571\n",
      "Fold 7 -- Acc = 0.6666666666666666\n",
      "Fold 8 -- Acc = 0.6666666666666666\n",
      "Fold 9 -- Acc = 0.8333333333333334\n"
     ]
    }
   ],
   "source": [
    "#set up cross-validation to evaluate model performance\n",
    "#within 10 folds of training set\n",
    "\n",
    "# predict\n",
    "y_pred = cross_val_predict(my_first_svc, X_train, y_train,\n",
    "                           groups=y_train, cv=10)\n",
    "# scores\n",
    "acc = cross_val_score(my_first_svc, X_train, y_train,\n",
    "                     groups=y_train, cv=10)\n",
    "\n",
    "#Look at accuracy of prediction for each fold of the cross-validation\n",
    "for i in range(10):\n",
    "    print('Fold %s -- Acc = %s'%(i, acc[i]))"
   ]
  },
  {
   "cell_type": "code",
   "execution_count": 37,
   "metadata": {
    "scrolled": false
   },
   "outputs": [
    {
     "name": "stdout",
     "output_type": "stream",
     "text": [
      "Accuracy: 0.7428571428571429\n",
      "              precision    recall  f1-score   support\n",
      "\n",
      "         CTL       0.65      0.48      0.55        23\n",
      "         Enc       0.77      0.87      0.82        47\n",
      "\n",
      "    accuracy                           0.74        70\n",
      "   macro avg       0.71      0.68      0.69        70\n",
      "weighted avg       0.73      0.74      0.73        70\n",
      "\n"
     ]
    },
    {
     "data": {
      "image/png": "[encoded data removed]",
      "text/plain": [
       "<Figure size 432x288 with 2 Axes>"
      ]
     },
     "metadata": {
      "needs_background": "light"
     },
     "output_type": "display_data"
    }
   ],
   "source": [
    "#look at the overall accuracy of the model\n",
    "\n",
    "overall_acc = accuracy_score(y_pred = y_pred, y_true = y_train)\n",
    "overall_cr = classification_report(y_pred = y_pred, y_true = y_train)\n",
    "overall_cm = confusion_matrix(y_pred = y_pred, y_true = y_train)\n",
    "print('Accuracy:',overall_acc)\n",
    "print(overall_cr)\n",
    "\n",
    "thresh = overall_cm.max() / 2\n",
    "cmdf = pd.DataFrame(overall_cm, index = ['CTL','Enc'], columns = ['CTL','Enc'])\n",
    "sns.heatmap(cmdf, cmap='copper')\n",
    "plt.xlabel('Predicted')\n",
    "plt.ylabel('Observed')\n",
    "for i, j in itertools.product(range(overall_cm.shape[0]), range(overall_cm.shape[1])):\n",
    "        plt.text(j+0.5, i+0.5, format(overall_cm[i, j], 'd'),\n",
    "                 horizontalalignment=\"center\",\n",
    "                 color=\"white\")"
   ]
  },
  {
   "cell_type": "code",
   "execution_count": 38,
   "metadata": {},
   "outputs": [
    {
     "data": {
      "text/plain": [
       "Text(0, 0.5, 'subjects')"
      ]
     },
     "execution_count": 38,
     "metadata": {},
     "output_type": "execute_result"
    },
    {
     "data": {
      "image/png": "[encoded data removed]",
      "text/plain": [
       "<Figure size 432x288 with 2 Axes>"
      ]
     },
     "metadata": {
      "needs_background": "light"
     },
     "output_type": "display_data"
    }
   ],
   "source": [
    "#Scale the training data\n",
    "scaler = MinMaxScaler().fit(X_train)\n",
    "X_train_scl = scaler.transform(X_train)\n",
    "\n",
    "plt.imshow(X_train, aspect='auto')\n",
    "plt.colorbar()\n",
    "plt.title('Training Data')\n",
    "plt.xlabel('features')\n",
    "plt.ylabel('subjects')"
   ]
  },
  {
   "cell_type": "code",
   "execution_count": 39,
   "metadata": {},
   "outputs": [
    {
     "data": {
      "text/plain": [
       "Text(0, 0.5, 'subjects')"
      ]
     },
     "execution_count": 39,
     "metadata": {},
     "output_type": "execute_result"
    },
    {
     "data": {
      "image/png": "[encoded data removed]",
      "text/plain": [
       "<Figure size 432x288 with 2 Axes>"
      ]
     },
     "metadata": {
      "needs_background": "light"
     },
     "output_type": "display_data"
    }
   ],
   "source": [
    "plt.imshow(X_train_scl, aspect='auto')\n",
    "plt.colorbar()\n",
    "plt.title('Scaled Training Data')\n",
    "plt.xlabel('features')\n",
    "plt.ylabel('subjects')"
   ]
  },
  {
   "cell_type": "code",
   "execution_count": 40,
   "metadata": {},
   "outputs": [
    {
     "name": "stdout",
     "output_type": "stream",
     "text": [
      "Accuracy: 0.7857142857142857\n",
      "              precision    recall  f1-score   support\n",
      "\n",
      "         CTL       0.72      0.57      0.63        23\n",
      "         Enc       0.81      0.89      0.85        47\n",
      "\n",
      "    accuracy                           0.79        70\n",
      "   macro avg       0.76      0.73      0.74        70\n",
      "weighted avg       0.78      0.79      0.78        70\n",
      "\n"
     ]
    },
    {
     "data": {
      "image/png": "[encoded data removed]",
      "text/plain": [
       "<Figure size 432x288 with 2 Axes>"
      ]
     },
     "metadata": {
      "needs_background": "light"
     },
     "output_type": "display_data"
    }
   ],
   "source": [
    "#Repeat steps with scaled data\n",
    "\n",
    "# predict\n",
    "y_pred = cross_val_predict(my_first_svc, X_train_scl, y_train,\n",
    "                           groups=y_train, cv=10)\n",
    "\n",
    "# get scores\n",
    "overall_acc = accuracy_score(y_pred = y_pred, y_true = y_train)\n",
    "overall_cr = classification_report(y_pred = y_pred, y_true = y_train)\n",
    "overall_cm = confusion_matrix(y_pred = y_pred, y_true = y_train)\n",
    "print('Accuracy:',overall_acc)\n",
    "print(overall_cr)\n",
    "\n",
    "# plot\n",
    "thresh = overall_cm.max() / 2\n",
    "cmdf = pd.DataFrame(overall_cm, index = ['Control','Encoding'], columns = ['Control','Encoding'])\n",
    "sns.heatmap(cmdf, cmap='copper')\n",
    "plt.xlabel('Predicted')\n",
    "plt.ylabel('Observed')\n",
    "for i, j in itertools.product(range(overall_cm.shape[0]), range(overall_cm.shape[1])):\n",
    "        plt.text(j+0.5, i+0.5, format(overall_cm[i, j], 'd'),\n",
    "                 horizontalalignment=\"center\",\n",
    "                 color=\"white\")"
   ]
  },
  {
   "cell_type": "code",
   "execution_count": 41,
   "metadata": {},
   "outputs": [
    {
     "name": "stdout",
     "output_type": "stream",
     "text": [
      "accuracy = 0.8085106382978723\n",
      "              precision    recall  f1-score   support\n",
      "\n",
      "         CTL       0.73      0.69      0.71        16\n",
      "         Enc       0.84      0.87      0.86        31\n",
      "\n",
      "    accuracy                           0.81        47\n",
      "   macro avg       0.79      0.78      0.78        47\n",
      "weighted avg       0.81      0.81      0.81        47\n",
      "\n"
     ]
    },
    {
     "data": {
      "image/png": "[encoded data removed]",
      "text/plain": [
       "<Figure size 432x288 with 2 Axes>"
      ]
     },
     "metadata": {
      "needs_background": "light"
     },
     "output_type": "display_data"
    }
   ],
   "source": [
    "# Test model on unseen data from the test set\n",
    "# Use the Scaler that was fit to X_train and apply to X_test,\n",
    "# rather than creating a new Scaler for X_test\n",
    "X_test_scl = scaler.transform(X_test)\n",
    "\n",
    "my_first_svc.fit(X_train_scl, y_train) # fit to training data\n",
    "y_pred = my_first_svc.predict(X_test_scl) # classify age class using testing data\n",
    "acc = my_first_svc.score(X_test_scl, y_test) # get accuracy\n",
    "cr = classification_report(y_pred=y_pred, y_true=y_test) # get prec., recall & f1\n",
    "cm = confusion_matrix(y_pred=y_pred, y_true=y_test) # get confusion matrix\n",
    "\n",
    "# print results\n",
    "print('accuracy =', acc)\n",
    "print(cr)\n",
    "\n",
    "# plot results\n",
    "thresh = cm.max() / 2\n",
    "cmdf = pd.DataFrame(cm, index = ['Control','Encoding'], columns = ['Control','Encoding'])\n",
    "sns.heatmap(cmdf, cmap='RdBu_r')\n",
    "plt.xlabel('Predicted')\n",
    "plt.ylabel('Observed')\n",
    "for i, j in itertools.product(range(cm.shape[0]), range(cm.shape[1])):\n",
    "        plt.text(j+0.5, i+0.5, format(cm[i, j], 'd'),\n",
    "                 horizontalalignment=\"center\",\n",
    "                 color=\"white\")"
   ]
  },
  {
   "cell_type": "code",
   "execution_count": 42,
   "metadata": {
    "scrolled": true
   },
   "outputs": [
    {
     "name": "stdout",
     "output_type": "stream",
     "text": [
      "(20,)\n",
      "[ 0.24103356 -0.46919637  0.56276568 -0.42445484  0.42984412  0.18097025\n",
      "  1.1038256  -1.1776612   0.67517402  0.21004485 -0.43132687 -0.8573792\n",
      "  0.13429622 -0.29960362  0.938909    0.67301725  0.35527684 -0.86417118\n",
      " -0.58431894 -0.31914206]\n"
     ]
    }
   ],
   "source": [
    "#Visualize feature weights? (color-coded?)\n",
    "\n",
    "coef_ = my_first_svc.coef_[0]\n",
    "print(coef_.shape)\n",
    "print(coef_)"
   ]
  },
  {
   "cell_type": "code",
   "execution_count": 43,
   "metadata": {},
   "outputs": [
    {
     "name": "stdout",
     "output_type": "stream",
     "text": [
      "(53, 64, 52)\n",
      "    roi            label                                               name\n",
      "0     1          BG_THAL                         BASAL_GANGLIA_and_THALAMUS\n",
      "1     2         MOTnet_v                        SOMATOMOTOR_NETWORK_ventral\n",
      "2     3      ORBcor_NACC         ORBITOFRONTAL_CORTEX_and_NUCLEUS_ACCUMBENS\n",
      "3     4            ASCER                             ASSOCIATIVE_CEREBELLUM\n",
      "4     5  PGACcor_VMPFcor  PERIGENUAL_ANTERIOR_CINGULATE_CORTEX_and_VENTR...\n",
      "5     6       ITgyr_Tpol          INFERIOR_TEMPORAL_GYRUS_and_TEMPORAL_POLE\n",
      "6     7          FPTCnet               FRONTO_PARIETAL_TASK_CONTROL_NETWORK\n",
      "7     8      AUDnet_PINS              AUDITORY_NETWORK_and_POSTERIOR_INSULA\n",
      "8     9          MVISnet                              MEDIAL_VISUAL_NETWORK\n",
      "9    10   AMY_HIPP_Pisul   AMYGDALA_and_HIPPOCAMPUS_and_Peri_Insular_Sulcus\n",
      "10   11         MOTnet_d                         SOMATOMOTOR_NETWORK_dorsal\n",
      "11   12        VATTnet_m                   VENTRAL_ATTENTION_NETWORK_medial\n",
      "12   13          DMnet_l                       DEFAULT_MODE_NETWORK_lateral\n",
      "13   14         DMnet_pm                 DEFAULT_MODE_NETWORK_posteromedial\n",
      "14   15          LVISnet                             LATERAL_VISUAL_NETWORK\n",
      "15   16        VVIS_DVIS     VENTRAL_VISUAL_STREAM_and_DORSAL_VISUAL_STREAM\n",
      "16   17            MOCER                                   MOTOR_CEREBELLUM\n",
      "17   18          DMnet_l                       DEFAULT_MODE_NETWORK_lateral\n",
      "18   19        VATTnet_l                  VENTRAL_ATTENTION_NETWORK_lateral\n",
      "19   20            FPnet                            FRONTO_PARIETAL_NETWORK\n"
     ]
    }
   ],
   "source": [
    "# To interpret MIST parcellation labels:\n",
    "# https://simexp.github.io/multiscale_dashboard/index.html\n",
    "basc_dir = '/Users/mombot/Documents/Simexp/CIMAQ/Data/MIST/Release/Parcellations'\n",
    "basc = image.load_img(os.path.join(basc_dir, 'MIST_20.nii'))\n",
    "\n",
    "print(basc.header.get_data_shape())\n",
    "#print(basc.header)\n",
    "\n",
    "b_labels = '/Users/mombot/Documents/Simexp/CIMAQ/Data/MIST/Release/Parcel_Information/MIST_20.csv'\n",
    "basc_labels = pd.read_csv(b_labels, sep=';')\n",
    "\n",
    "print(basc_labels.iloc[:, 0:3])"
   ]
  },
  {
   "cell_type": "code",
   "execution_count": 44,
   "metadata": {},
   "outputs": [
    {
     "name": "stdout",
     "output_type": "stream",
     "text": [
      "                                                 name      coef\n",
      "0                          BASAL_GANGLIA_and_THALAMUS  0.241034\n",
      "1                         SOMATOMOTOR_NETWORK_ventral -0.469196\n",
      "2          ORBITOFRONTAL_CORTEX_and_NUCLEUS_ACCUMBENS  0.562766\n",
      "3                              ASSOCIATIVE_CEREBELLUM -0.424455\n",
      "4   PERIGENUAL_ANTERIOR_CINGULATE_CORTEX_and_VENTR...  0.429844\n",
      "5           INFERIOR_TEMPORAL_GYRUS_and_TEMPORAL_POLE  0.180970\n",
      "6                FRONTO_PARIETAL_TASK_CONTROL_NETWORK  1.103826\n",
      "7               AUDITORY_NETWORK_and_POSTERIOR_INSULA -1.177661\n",
      "8                               MEDIAL_VISUAL_NETWORK  0.675174\n",
      "9    AMYGDALA_and_HIPPOCAMPUS_and_Peri_Insular_Sulcus  0.210045\n",
      "10                         SOMATOMOTOR_NETWORK_dorsal -0.431327\n",
      "11                   VENTRAL_ATTENTION_NETWORK_medial -0.857379\n",
      "12                       DEFAULT_MODE_NETWORK_lateral  0.134296\n",
      "13                 DEFAULT_MODE_NETWORK_posteromedial -0.299604\n",
      "14                             LATERAL_VISUAL_NETWORK  0.938909\n",
      "15     VENTRAL_VISUAL_STREAM_and_DORSAL_VISUAL_STREAM  0.673017\n",
      "16                                   MOTOR_CEREBELLUM  0.355277\n",
      "17                       DEFAULT_MODE_NETWORK_lateral -0.864171\n",
      "18                  VENTRAL_ATTENTION_NETWORK_lateral -0.584319\n",
      "19                            FRONTO_PARIETAL_NETWORK -0.319142\n"
     ]
    }
   ],
   "source": [
    "basc_labels.insert(loc=3, column='coef', value=coef_, allow_duplicates=True)\n",
    "\n",
    "print(basc_labels.iloc[:, 2:4])"
   ]
  },
  {
   "cell_type": "code",
   "execution_count": null,
   "metadata": {},
   "outputs": [],
   "source": []
  }
 ],
 "metadata": {
  "kernelspec": {
   "display_name": "Python 3",
   "language": "python",
   "name": "python3"
  },
  "language_info": {
   "codemirror_mode": {
    "name": "ipython",
    "version": 3
   },
   "file_extension": ".py",
   "mimetype": "text/x-python",
   "name": "python",
   "nbconvert_exporter": "python",
   "pygments_lexer": "ipython3",
   "version": "3.6.8"
  }
 },
 "nbformat": 4,
 "nbformat_minor": 2
}
