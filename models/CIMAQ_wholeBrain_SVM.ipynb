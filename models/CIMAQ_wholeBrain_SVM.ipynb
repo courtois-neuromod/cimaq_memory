{
 "cells": [
  {
   "cell_type": "code",
   "execution_count": 1,
   "metadata": {},
   "outputs": [],
   "source": [
    "%matplotlib inline"
   ]
  },
  {
   "cell_type": "markdown",
   "metadata": {},
   "source": [
    "Single-subject example of SVM classification based on entire brain's voxels for CIMAQ memory encoding task (fMRI data). \n",
    "\n",
    "\n"
   ]
  },
  {
   "cell_type": "code",
   "execution_count": 2,
   "metadata": {},
   "outputs": [
    {
     "name": "stderr",
     "output_type": "stream",
     "text": [
      "/anaconda3/envs/py36/lib/python3.6/site-packages/sklearn/externals/joblib/__init__.py:15: DeprecationWarning: sklearn.externals.joblib is deprecated in 0.21 and will be removed in 0.23. Please import this functionality directly from joblib, which can be installed with: pip install joblib. If this warning is raised when loading pickled models, you may need to re-serialize those models with scikit-learn 0.21+.\n",
      "  warnings.warn(msg, category=DeprecationWarning)\n"
     ]
    }
   ],
   "source": [
    "import os\n",
    "import sys\n",
    "import glob\n",
    "import numpy as np\n",
    "import pandas as pd\n",
    "import nilearn\n",
    "import scipy\n",
    "import nibabel as nb\n",
    "import sklearn\n",
    "import seaborn as sns\n",
    "import itertools\n",
    "\n",
    "from numpy import nan as NaN\n",
    "from matplotlib import pyplot as plt\n",
    "from nilearn import image, plotting\n",
    "from nilearn import datasets\n",
    "from nilearn.plotting import plot_stat_map, plot_roi, plot_anat, plot_img, show\n",
    "from nilearn.input_data import NiftiMasker\n",
    "from sklearn.model_selection import train_test_split\n",
    "from sklearn.svm import SVC\n",
    "from sklearn.metrics import accuracy_score, classification_report, confusion_matrix, precision_score, f1_score\n",
    "from sklearn.model_selection import cross_val_predict, cross_val_score\n",
    "from sklearn.preprocessing import MinMaxScaler\n",
    "\n",
    "#libraries need to be installed in conda environment with pip install"
   ]
  },
  {
   "cell_type": "markdown",
   "metadata": {},
   "source": [
    "Step 1: vectorize beta maps to derive features\n",
    "\n",
    "Use Nilearn's NiftiMasker to convert beta-images to a vectorized data matrix (vectorize the brain) as input for machine learning.\n",
    "\n",
    "Masking: a normalized functional data mask (outputted by NIAK) to determine which voxels to include in the data matrix"
   ]
  },
  {
   "cell_type": "code",
   "execution_count": 22,
   "metadata": {
    "scrolled": false
   },
   "outputs": [
    {
     "name": "stdout",
     "output_type": "stream",
     "text": [
      "(78, 69924)\n",
      "(117, 69924)\n"
     ]
    }
   ],
   "source": [
    "#subject id\n",
    "id = '122922'\n",
    "\n",
    "#Subject's anatomical scan (for display); normalized (non-linear)\n",
    "#define directory where subject's functional mask and anatomical scan reside\n",
    "anat_dir = '/Users/mombot/Documents/Simexp/CIMAQ/Data/anat/122922'\n",
    "#subject's anatomical scan\n",
    "anat = nb.load(os.path.join(anat_dir, 'anat_sub122922_nuc_stereonl.nii'))\n",
    "\n",
    "#mask of subject's functional MRI data\n",
    "mask = nb.load(os.path.join(anat_dir, 'func_sub122922_mask_stereonl.nii'))\n",
    "\n",
    "#visualizing mask with subjet's anatomical image as background\n",
    "plot_roi(roi_img=mask, bg_img=anat, cmap='Paired')\n",
    "\n",
    "#sanity check: the functional mask from the NIAK preprocessing output directory (anat)  \n",
    "#contains the functional MRI voxels (task epi scans)\n",
    "tscores = '/Users/mombot/Documents/Simexp/CIMAQ/Data/test/Output/122922/MultiModels/EncMinCTL_tscores_sub122922.nii'\n",
    "plot_stat_map(stat_map_img=tscores, bg_img=mask, cut_coords=(0, 0, 0), threshold=0.2, colorbar=True)\n",
    "\n",
    "betas_enc = glob.glob('/Users/mombot/Documents/Simexp/CIMAQ/Data/Nistats/Betas/122922/SingleModel/concat*.nii')[0]\n",
    "\n",
    "#load 4D image (concatenated beta maps, each is a 3D file) corresponding to trial events, \n",
    "#in temporal order.\n",
    "#betas_all = glob.glob('/Users/mombot/Documents/Simexp/CIMAQ/Data/Nistats/Betas/122922/OneModelPerTrial_A/concat*.nii')[0]\n",
    "\n",
    "##OR: upload series of 3D images in nilearn using the wild card\n",
    "#https://nilearn.github.io/modules/generated/nilearn.image.load_img.html#nilearn.image.load_img\n",
    "betas_all = nilearn.image.load_img(img='/Users/mombot/Documents/Simexp/CIMAQ/Data/Nistats/Betas/122922/OneModelPerTrial_A/betas*nii', wildcards=True)\n",
    "\n",
    "#use NiftiMasker class to convert images into data matrices for decoding\n",
    "#create 2D array (numpy) as input for scikit-learn for decoding\n",
    "masker = NiftiMasker(mask_img=mask, standardize=True)\n",
    "\n",
    "# give the masker a filename and convert beta maps into a 2D array\n",
    "#78 rows = encoding trials, 69924 columns = brain voxels, value = beta value\n",
    "X_encTrials = masker.fit_transform(betas_enc)\n",
    "#177 rows = all trials, 69924 columns = brain voxels, value = beta value\n",
    "X_allTrials = masker.fit_transform(betas_all)\n",
    "\n",
    "print(X_encTrials.shape) #78 rows = trials, 69924 cols = voxels, val = beta weights\n",
    "print(X_allTrials.shape) #117 rows = trials, 69924 cols = voxels, val = beta weights\n",
    "\n",
    "#plt.imshow(X_encTrials, aspect='auto')\n",
    "#plt.colorbar()\n",
    "#plt.title('encoding feature matrix')\n",
    "#plt.xlabel('features')\n",
    "#plt.ylabel('trials')\n",
    "#plt.show()"
   ]
  },
  {
   "cell_type": "markdown",
   "metadata": {},
   "source": [
    "Step 2: import behav labels"
   ]
  },
  {
   "cell_type": "code",
   "execution_count": 23,
   "metadata": {},
   "outputs": [
    {
     "name": "stdout",
     "output_type": "stream",
     "text": [
      "0    correctsource\n",
      "1      wrongsource\n",
      "2      wrongsource\n",
      "3           missed\n",
      "4      wrongsource\n",
      "Name: enctrial_type, dtype: object\n"
     ]
    },
    {
     "data": {
      "text/plain": [
       "wrongsource      30\n",
       "correctsource    25\n",
       "missed           23\n",
       "Name: enctrial_type, dtype: int64"
      ]
     },
     "execution_count": 23,
     "metadata": {},
     "output_type": "execute_result"
    }
   ],
   "source": [
    "#Encoding trial labels (78 labels): miss, wrong source, correct source\n",
    "label_dir = '/Users/mombot/Documents/Simexp/CIMAQ/Data/test/Output/Events'\n",
    "label_enc = glob.glob(os.path.join(label_dir, 'sub-*EncTrialTypes.tsv'))[0]\n",
    "label_all = glob.glob(os.path.join(label_dir, 'sub-*AllTrialTypes.tsv'))[0]\n",
    "\n",
    "enc_labels = pd.read_csv(label_enc, sep='\\t')\n",
    "y_enc = enc_labels['enctrial_type'] #transform DataFrame into 1D array by extracting column\n",
    "print(y_enc.head())\n",
    "enc_labels.enctrial_type.value_counts()\n"
   ]
  },
  {
   "cell_type": "code",
   "execution_count": 24,
   "metadata": {
    "scrolled": true
   },
   "outputs": [
    {
     "name": "stdout",
     "output_type": "stream",
     "text": [
      "0    Enc\n",
      "1    CTL\n",
      "2    Enc\n",
      "3    Enc\n",
      "4    CTL\n",
      "Name: trial_type, dtype: object\n"
     ]
    },
    {
     "data": {
      "text/plain": [
       "Enc    78\n",
       "CTL    39\n",
       "Name: trial_type, dtype: int64"
      ]
     },
     "execution_count": 24,
     "metadata": {},
     "output_type": "execute_result"
    }
   ],
   "source": [
    "all_labels = pd.read_csv(label_all, sep='\\t')\n",
    "y_all = all_labels['trial_type']\n",
    "print(y_all.head())\n",
    "all_labels.trial_type.value_counts()"
   ]
  },
  {
   "cell_type": "markdown",
   "metadata": {},
   "source": [
    "Step 3: stratify the data into training and testing sets\n",
    "\n",
    "See scikit-learn documentation here:\n",
    "https://scikit-learn.org/stable/modules/generated/sklearn.model_selection.train_test_split.html\n",
    "\n",
    "Define a training and a testing sample\n",
    "Split the sample to training/test with a 60/40 ratio, stratify trials by condition, and  shuffle the data"
   ]
  },
  {
   "cell_type": "code",
   "execution_count": 25,
   "metadata": {},
   "outputs": [
    {
     "name": "stdout",
     "output_type": "stream",
     "text": [
      "training: 70 testing: 47\n"
     ]
    }
   ],
   "source": [
    "#X_encTrials, y_enc \n",
    "#X_allTrials, y_all \n",
    "\n",
    "X_train, X_test, y_train, y_test = train_test_split(\n",
    "    #X_encTrials,\n",
    "    #y_enc,\n",
    "    X_allTrials, # x\n",
    "    y_all, # y\n",
    "    test_size = 0.4, # 60%/40% split\n",
    "    shuffle = True, # shuffle dataset before splitting\n",
    "    stratify = y_all, # keep distribution of conditions consistent betw. train & test sets\n",
    "    random_state = 123) # same shuffle each time\n",
    "\n",
    "print('training:', len(X_train),\n",
    "     'testing:', len(X_test))\n",
    "\n",
    "#fig,(ax1,ax2) = plt.subplots(2)\n",
    "#sns.countplot(y_train, ax=ax1, order=['Enc','CTL'])\n",
    "#ax1.set_title('Train')\n",
    "#sns.countplot(y_test, ax=ax2, order=['Enc','CTL'])\n",
    "#ax2.set_title('Test')"
   ]
  },
  {
   "cell_type": "markdown",
   "metadata": {},
   "source": [
    "Step 4: train an SVM  model"
   ]
  },
  {
   "cell_type": "code",
   "execution_count": 26,
   "metadata": {},
   "outputs": [
    {
     "name": "stdout",
     "output_type": "stream",
     "text": [
      "accuracy: 1.0\n",
      "              precision    recall  f1-score   support\n",
      "\n",
      "         CTL       1.00      1.00      1.00        23\n",
      "         Enc       1.00      1.00      1.00        47\n",
      "\n",
      "    accuracy                           1.00        70\n",
      "   macro avg       1.00      1.00      1.00        70\n",
      "weighted avg       1.00      1.00      1.00        70\n",
      "\n",
      "[[23  0]\n",
      " [ 0 47]]\n"
     ]
    },
    {
     "name": "stderr",
     "output_type": "stream",
     "text": [
      "/anaconda3/envs/py36/lib/python3.6/site-packages/seaborn/matrix.py:312: UserWarning: Use the colorbar set_ticks() method instead.\n",
      "  ax.set(xticks=xticks, yticks=yticks)\n"
     ]
    }
   ],
   "source": [
    "my_first_svc = SVC(kernel='linear') #define the model\n",
    "my_first_svc.fit(X_train, y_train) #train the model\n",
    "\n",
    "# predict the training data based on the model\n",
    "y_pred = my_first_svc.predict(X_train)\n",
    "\n",
    "# calculate the model accuracy\n",
    "acc = my_first_svc.score(X_train, y_train)\n",
    "\n",
    "# calculate the model precision, recall and f1 in one report\n",
    "cr = classification_report(y_true=y_train,\n",
    "                      y_pred = y_pred)\n",
    "\n",
    "# get a table to help us break down these scores\n",
    "cm = confusion_matrix(y_true=y_train, y_pred = y_pred)\n",
    "\n",
    "# print results\n",
    "print('accuracy:', acc)\n",
    "print(cr)\n",
    "print(cm)\n",
    "\n",
    "# plot confusion matrix (training data)\n",
    "cmdf = pd.DataFrame(cm, index = ['Control','Encoding'], columns = ['Control','Encoding'])\n",
    "sns.heatmap(cmdf, cmap = 'RdBu_r')\n",
    "plt.xlabel('Predicted')\n",
    "plt.ylabel('Observed')\n",
    "# label cells in matrix\n",
    "for i, j in itertools.product(range(cm.shape[0]), range(cm.shape[1])):\n",
    "        plt.text(j+0.5, i+0.5, format(cm[i, j], 'd'),\n",
    "                 horizontalalignment=\"center\",\n",
    "                 color=\"white\")"
   ]
  },
  {
   "cell_type": "code",
   "execution_count": 27,
   "metadata": {},
   "outputs": [
    {
     "name": "stdout",
     "output_type": "stream",
     "text": [
      "Fold 0 -- Acc = 1.0\n",
      "Fold 1 -- Acc = 0.875\n",
      "Fold 2 -- Acc = 0.875\n",
      "Fold 3 -- Acc = 1.0\n",
      "Fold 4 -- Acc = 1.0\n",
      "Fold 5 -- Acc = 1.0\n",
      "Fold 6 -- Acc = 1.0\n",
      "Fold 7 -- Acc = 0.8333333333333334\n",
      "Fold 8 -- Acc = 0.8333333333333334\n",
      "Fold 9 -- Acc = 0.8333333333333334\n"
     ]
    }
   ],
   "source": [
    "#set up cross-validation to evaluate model performance\n",
    "#within 10 folds of training set\n",
    "\n",
    "# predict\n",
    "y_pred = cross_val_predict(my_first_svc, X_train, y_train,\n",
    "                           groups=y_train, cv=10)\n",
    "# scores\n",
    "acc = cross_val_score(my_first_svc, X_train, y_train,\n",
    "                     groups=y_train, cv=10)\n",
    "\n",
    "#Look at accuracy of prediction for each fold of the cross-validation\n",
    "for i in range(10):\n",
    "    print('Fold %s -- Acc = %s'%(i, acc[i]))"
   ]
  },
  {
   "cell_type": "code",
   "execution_count": 28,
   "metadata": {
    "scrolled": false
   },
   "outputs": [
    {
     "name": "stdout",
     "output_type": "stream",
     "text": [
      "Accuracy: 0.9285714285714286\n",
      "              precision    recall  f1-score   support\n",
      "\n",
      "         CTL       0.91      0.87      0.89        23\n",
      "         Enc       0.94      0.96      0.95        47\n",
      "\n",
      "    accuracy                           0.93        70\n",
      "   macro avg       0.92      0.91      0.92        70\n",
      "weighted avg       0.93      0.93      0.93        70\n",
      "\n"
     ]
    },
    {
     "name": "stderr",
     "output_type": "stream",
     "text": [
      "/anaconda3/envs/py36/lib/python3.6/site-packages/seaborn/matrix.py:312: UserWarning: Use the colorbar set_ticks() method instead.\n",
      "  ax.set(xticks=xticks, yticks=yticks)\n"
     ]
    }
   ],
   "source": [
    "#look at the overall accuracy of the model\n",
    "\n",
    "overall_acc = accuracy_score(y_pred = y_pred, y_true = y_train)\n",
    "overall_cr = classification_report(y_pred = y_pred, y_true = y_train)\n",
    "overall_cm = confusion_matrix(y_pred = y_pred, y_true = y_train)\n",
    "print('Accuracy:',overall_acc)\n",
    "print(overall_cr)\n",
    "\n",
    "thresh = overall_cm.max() / 2\n",
    "cmdf = pd.DataFrame(overall_cm, index = ['CTL','Enc'], columns = ['CTL','Enc'])\n",
    "sns.heatmap(cmdf, cmap='copper')\n",
    "plt.xlabel('Predicted')\n",
    "plt.ylabel('Observed')\n",
    "for i, j in itertools.product(range(overall_cm.shape[0]), range(overall_cm.shape[1])):\n",
    "        plt.text(j+0.5, i+0.5, format(overall_cm[i, j], 'd'),\n",
    "                 horizontalalignment=\"center\",\n",
    "                 color=\"white\")"
   ]
  },
  {
   "cell_type": "code",
   "execution_count": 29,
   "metadata": {},
   "outputs": [
    {
     "data": {
      "text/plain": [
       "Text(522.9424, 0.5, 'subjects')"
      ]
     },
     "execution_count": 29,
     "metadata": {},
     "output_type": "execute_result"
    }
   ],
   "source": [
    "#Scale the training data\n",
    "scaler = MinMaxScaler().fit(X_train)\n",
    "X_train_scl = scaler.transform(X_train)\n",
    "\n",
    "plt.imshow(X_train, aspect='auto')\n",
    "plt.colorbar()\n",
    "plt.title('Training Data')\n",
    "plt.xlabel('features')\n",
    "plt.ylabel('subjects')"
   ]
  },
  {
   "cell_type": "code",
   "execution_count": 30,
   "metadata": {},
   "outputs": [
    {
     "data": {
      "text/plain": [
       "Text(521.8211200000001, 0.5, 'subjects')"
      ]
     },
     "execution_count": 30,
     "metadata": {},
     "output_type": "execute_result"
    }
   ],
   "source": [
    "plt.imshow(X_train_scl, aspect='auto')\n",
    "plt.colorbar()\n",
    "plt.title('Scaled Training Data')\n",
    "plt.xlabel('features')\n",
    "plt.ylabel('subjects')"
   ]
  },
  {
   "cell_type": "code",
   "execution_count": 13,
   "metadata": {},
   "outputs": [
    {
     "name": "stdout",
     "output_type": "stream",
     "text": [
      "Accuracy: 0.7428571428571429\n",
      "              precision    recall  f1-score   support\n",
      "\n",
      "         CTL       0.63      0.52      0.57        23\n",
      "         Enc       0.78      0.85      0.82        47\n",
      "\n",
      "    accuracy                           0.74        70\n",
      "   macro avg       0.71      0.69      0.69        70\n",
      "weighted avg       0.73      0.74      0.74        70\n",
      "\n"
     ]
    },
    {
     "name": "stderr",
     "output_type": "stream",
     "text": [
      "/anaconda3/envs/py36/lib/python3.6/site-packages/seaborn/matrix.py:312: UserWarning: Use the colorbar set_ticks() method instead.\n",
      "  ax.set(xticks=xticks, yticks=yticks)\n"
     ]
    }
   ],
   "source": [
    "#Repeat steps with scaled data\n",
    "\n",
    "# predict\n",
    "y_pred = cross_val_predict(my_first_svc, X_train_scl, y_train,\n",
    "                           groups=y_train, cv=10)\n",
    "\n",
    "# get scores\n",
    "overall_acc = accuracy_score(y_pred = y_pred, y_true = y_train)\n",
    "overall_cr = classification_report(y_pred = y_pred, y_true = y_train)\n",
    "overall_cm = confusion_matrix(y_pred = y_pred, y_true = y_train)\n",
    "print('Accuracy:',overall_acc)\n",
    "print(overall_cr)\n",
    "\n",
    "# plot\n",
    "thresh = overall_cm.max() / 2\n",
    "cmdf = pd.DataFrame(overall_cm, index = ['Control','Encoding'], columns = ['Control','Encoding'])\n",
    "sns.heatmap(cmdf, cmap='copper')\n",
    "plt.xlabel('Predicted')\n",
    "plt.ylabel('Observed')\n",
    "for i, j in itertools.product(range(overall_cm.shape[0]), range(overall_cm.shape[1])):\n",
    "        plt.text(j+0.5, i+0.5, format(overall_cm[i, j], 'd'),\n",
    "                 horizontalalignment=\"center\",\n",
    "                 color=\"white\")"
   ]
  },
  {
   "cell_type": "code",
   "execution_count": 31,
   "metadata": {},
   "outputs": [
    {
     "name": "stdout",
     "output_type": "stream",
     "text": [
      "accuracy = 0.9361702127659575\n",
      "              precision    recall  f1-score   support\n",
      "\n",
      "         CTL       0.93      0.88      0.90        16\n",
      "         Enc       0.94      0.97      0.95        31\n",
      "\n",
      "    accuracy                           0.94        47\n",
      "   macro avg       0.94      0.92      0.93        47\n",
      "weighted avg       0.94      0.94      0.94        47\n",
      "\n"
     ]
    },
    {
     "name": "stderr",
     "output_type": "stream",
     "text": [
      "/anaconda3/envs/py36/lib/python3.6/site-packages/seaborn/matrix.py:312: UserWarning: Use the colorbar set_ticks() method instead.\n",
      "  ax.set(xticks=xticks, yticks=yticks)\n"
     ]
    }
   ],
   "source": [
    "# Test model on unseen data from the test set\n",
    "# Use the Scaler that was fit to X_train and apply to X_test,\n",
    "# rather than creating a new Scaler for X_test\n",
    "X_test_scl = scaler.transform(X_test)\n",
    "\n",
    "my_first_svc.fit(X_train_scl, y_train) # fit to training data\n",
    "y_pred = my_first_svc.predict(X_test_scl) # classify age class using testing data\n",
    "acc = my_first_svc.score(X_test_scl, y_test) # get accuracy\n",
    "cr = classification_report(y_pred=y_pred, y_true=y_test) # get prec., recall & f1\n",
    "cm = confusion_matrix(y_pred=y_pred, y_true=y_test) # get confusion matrix\n",
    "\n",
    "# print results\n",
    "print('accuracy =', acc)\n",
    "print(cr)\n",
    "\n",
    "# plot results\n",
    "thresh = cm.max() / 2\n",
    "cmdf = pd.DataFrame(cm, index = ['Control','Encoding'], columns = ['Control','Encoding'])\n",
    "sns.heatmap(cmdf, cmap='RdBu_r')\n",
    "plt.xlabel('Predicted')\n",
    "plt.ylabel('Observed')\n",
    "for i, j in itertools.product(range(cm.shape[0]), range(cm.shape[1])):\n",
    "        plt.text(j+0.5, i+0.5, format(cm[i, j], 'd'),\n",
    "                 horizontalalignment=\"center\",\n",
    "                 color=\"white\")"
   ]
  },
  {
   "cell_type": "code",
   "execution_count": null,
   "metadata": {},
   "outputs": [],
   "source": []
  }
 ],
 "metadata": {
  "kernelspec": {
   "display_name": "Python 3",
   "language": "python",
   "name": "python3"
  },
  "language_info": {
   "codemirror_mode": {
    "name": "ipython",
    "version": 3
   },
   "file_extension": ".py",
   "mimetype": "text/x-python",
   "name": "python",
   "nbconvert_exporter": "python",
   "pygments_lexer": "ipython3",
   "version": "3.6.8"
  }
 },
 "nbformat": 4,
 "nbformat_minor": 2
}
