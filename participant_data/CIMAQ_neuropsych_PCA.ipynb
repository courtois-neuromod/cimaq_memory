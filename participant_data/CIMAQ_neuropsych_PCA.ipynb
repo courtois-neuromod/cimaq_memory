{
 "cells": [
  {
   "cell_type": "code",
   "execution_count": 3,
   "metadata": {},
   "outputs": [],
   "source": [
    "%matplotlib inline"
   ]
  },
  {
   "cell_type": "markdown",
   "metadata": {},
   "source": [
    "Data reduction: apply pca analysis to reduce neuropsych test scores to latent component weights, for prediction of continuous variable (a latent memory score)\n",
    "\n",
    "Questions: sparse (data missing for some participants: how to handle)?\n",
    "\n",
    "scaling data (transform into z scores)\n",
    "\n"
   ]
  },
  {
   "cell_type": "code",
   "execution_count": 18,
   "metadata": {},
   "outputs": [],
   "source": [
    "import numpy as np\n",
    "import pandas as pd\n",
    "import sklearn\n",
    "\n",
    "from numpy import nan as NaN\n",
    "#from sklearn.preprocessing import Imputer\n",
    "from sklearn.impute import SimpleImputer\n",
    "#from sklearn.experimental import enable_iterative_imputer\n",
    "#from sklearn.impute import IterativeImputer\n",
    "from sklearn.preprocessing import StandardScaler\n",
    "from sklearn.decomposition import PCA\n"
   ]
  },
  {
   "cell_type": "code",
   "execution_count": 19,
   "metadata": {},
   "outputs": [
    {
     "name": "stdout",
     "output_type": "stream",
     "text": [
      "original data\n",
      "[[ 7.    8.   29.96 ...  0.   31.   16.  ]\n",
      " [ 7.    5.   55.68 ...  0.   28.   19.  ]\n",
      " [ 4.    2.   38.88 ...  0.5  28.   17.  ]\n",
      " ...\n",
      " [  nan   nan 29.72 ...  0.   27.   19.  ]\n",
      " [ 4.    5.   58.41 ...  0.5  29.   10.  ]\n",
      " [ 5.    6.   38.66 ...  0.   30.   14.  ]]\n",
      "inputed data\n",
      "[[ 7.    8.   29.96 ...  0.   31.   16.  ]\n",
      " [ 7.    5.   55.68 ...  0.   28.   19.  ]\n",
      " [ 4.    2.   38.88 ...  0.5  28.   17.  ]\n",
      " ...\n",
      " [ 5.    4.   29.72 ...  0.   27.   19.  ]\n",
      " [ 4.    5.   58.41 ...  0.5  29.   10.  ]\n",
      " [ 5.    6.   38.66 ...  0.   30.   14.  ]]\n",
      "scaled data\n",
      "[[ 0.91546815  1.5456917  -0.74462814 ... -0.50346504  0.84789328\n",
      "   0.59459139]\n",
      " [ 0.91546815  0.2152774   0.97214333 ... -0.50346504 -0.53104895\n",
      "   1.31509625]\n",
      " [-0.52779542 -1.11513691 -0.14923151 ...  1.41716087 -0.53104895\n",
      "   0.83475968]\n",
      " ...\n",
      " [-0.04670756 -0.22819404 -0.76064778 ... -0.50346504 -0.99069636\n",
      "   1.31509625]\n",
      " [-0.52779542  0.2152774   1.15436674 ...  1.41716087 -0.07140154\n",
      "  -0.84641833]\n",
      " [-0.04670756  0.65874883 -0.16391618 ... -0.50346504  0.38824587\n",
      "   0.11425482]]\n"
     ]
    }
   ],
   "source": [
    "# Step 1: load and clean up data\n",
    "\n",
    "# Load neuropsych data as pandas dataframe\n",
    "dset = '/Users/mombot/Documents/Simexp/CIMAQ/Data/Participants/Neuropsych/ALL_Neuropsych_scores.tsv'\n",
    "npsych = pd.read_csv(dset, sep = '\\t')\n",
    "# index data by subject id\n",
    "npsych.set_index('dccid', inplace = True)\n",
    "# convert all columns to float64\n",
    "npsych = npsych.astype('float64', copy=False)\n",
    "x = npsych.values\n",
    "print('original data')\n",
    "print(x)\n",
    "\n",
    "# Filling up missing values (NaN) with multivariate imputer\n",
    "# https://scikit-learn.org/stable/modules/impute.html\n",
    "#imp_iter = IterativeImputer(max_iter=10, random_state=0)\n",
    "#imp_iter.fit(x)\n",
    "#IterativeImputer(add_indicator=False, estimator=None,\n",
    "#                 imputation_order='ascending', initial_strategy='mean',\n",
    "#                 max_iter=10, max_value=None, min_value=None,\n",
    "#                 missing_values=NaN, n_nearest_features=None,\n",
    "#                 random_state=0, sample_posterior=False, tol=0.001,\n",
    "#                 verbose=0)\n",
    "#x_test = np.round(imp_iter.transform(x))\n",
    "#print(x_test)\n",
    "\n",
    "imp_simple = SimpleImputer(missing_values=NaN, strategy='median')\n",
    "imp_simple.fit(x)\n",
    "SimpleImputer(copy=True, fill_value=None,\n",
    "        missing_values=NaN, strategy='median', verbose=0)\n",
    "x_full = imp_simple.transform(x)\n",
    "print('inputed data')\n",
    "print(x_full)\n",
    "\n",
    "# Scaling data (normalize to mean = 0, sd = 1)\n",
    "x_scaled = StandardScaler().fit_transform(x_full)\n",
    "print('scaled data')\n",
    "print(x_scaled)\n"
   ]
  },
  {
   "cell_type": "code",
   "execution_count": 26,
   "metadata": {
    "scrolled": true
   },
   "outputs": [
    {
     "name": "stdout",
     "output_type": "stream",
     "text": [
      "(103, 4) pc1    float64\n",
      "pc2    float64\n",
      "pc3    float64\n",
      "pc4    float64\n",
      "dtype: object         pc1       pc2       pc3       pc4\n",
      "0 -2.241407  2.267159 -0.256705  1.628550\n",
      "1 -0.955390 -1.662160 -0.949029 -0.725271\n",
      "2  1.724027  0.995476 -1.177703  0.241944\n",
      "3 -0.667614  1.529444 -0.010563  0.746561\n",
      "4  3.489571 -1.773405 -1.319734  0.293359\n"
     ]
    }
   ],
   "source": [
    "# Step 2: run PCA\n",
    "\n",
    "pca = PCA(n_components = 4)\n",
    "\n",
    "components = pca.fit_transform(x_scaled)\n",
    "\n",
    "weights = pd.DataFrame(data = components, \n",
    "                       columns = ['pc1', 'pc2', 'pc3', 'pc4'])\n",
    "\n",
    "print(weights.shape, weights.dtypes, weights.head())"
   ]
  },
  {
   "cell_type": "code",
   "execution_count": 34,
   "metadata": {},
   "outputs": [
    {
     "name": "stdout",
     "output_type": "stream",
     "text": [
      "[0.24841829 0.09074857 0.08344591 0.06869135]\n",
      "(4, 21)\n",
      "[-0.25939161 -0.30553407  0.11582782  0.25601196  0.0627154  -0.21301552\n",
      "  0.03014876  0.05744948 -0.35112199 -0.34253406 -0.19738565 -0.22433763\n",
      " -0.13785103 -0.14637503 -0.20489357 -0.16556378 -0.23445007 -0.08720294\n",
      "  0.30902324 -0.22372413 -0.24298859]\n",
      "(21,)\n",
      "[-0.25939161 -0.30553407  0.11582782  0.25601196  0.0627154  -0.21301552\n",
      "  0.03014876  0.05744948 -0.35112199 -0.34253406 -0.19738565 -0.22433763\n",
      " -0.13785103 -0.14637503 -0.20489357 -0.16556378 -0.23445007 -0.08720294\n",
      "  0.30902324 -0.22372413 -0.24298859]\n"
     ]
    }
   ],
   "source": [
    "print(pca.explained_variance_ratio_)\n",
    "print(pca.components_.shape)\n",
    "print(pca.components_[0])\n",
    "\n",
    "factors = pca.components_[0].transpose()\n",
    "print(factors.shape)\n",
    "print(factors)"
   ]
  },
  {
   "cell_type": "code",
   "execution_count": null,
   "metadata": {},
   "outputs": [],
   "source": []
  }
 ],
 "metadata": {
  "kernelspec": {
   "display_name": "Python 3",
   "language": "python",
   "name": "python3"
  },
  "language_info": {
   "codemirror_mode": {
    "name": "ipython",
    "version": 3
   },
   "file_extension": ".py",
   "mimetype": "text/x-python",
   "name": "python",
   "nbconvert_exporter": "python",
   "pygments_lexer": "ipython3",
   "version": "3.6.8"
  }
 },
 "nbformat": 4,
 "nbformat_minor": 2
}
